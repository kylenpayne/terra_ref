{
 "cells": [
  {
   "cell_type": "code",
   "execution_count": 3,
   "metadata": {
    "collapsed": false
   },
   "outputs": [],
   "source": [
    "%matplotlib inline\n",
    "import numpy as np\n",
    "import matplotlib.pyplot as plt\n",
    "import seaborn as sns\n",
    "import random"
   ]
  },
  {
   "cell_type": "markdown",
   "metadata": {},
   "source": [
    "# Normalized Discounted Cumulative Gain (NDCG) \n",
    "\n",
    "In the following cell, we write a function to get Normalized Discounted Cumulative Gain Score position k"
   ]
  },
  {
   "cell_type": "code",
   "execution_count": 58,
   "metadata": {
    "collapsed": false
   },
   "outputs": [],
   "source": [
    "def get_ndcg(y_true, prediction, k, n):\n",
    "    \"\"\"Discounted cumulative gain (DCG) at rank k\n",
    "    Parameters\n",
    "    ----------\n",
    "    y_true : array-like, shape = [n_samples]\n",
    "        Ground truth (true relevance labels).\n",
    "        \n",
    "    ranking : array-like, shape = [k]\n",
    "    \n",
    "    \n",
    "    k : int\n",
    "        Rank.\n",
    "        \n",
    "    n : total number of observations\n",
    "    Returns\n",
    "    -------\n",
    "    DCG @k : float\n",
    "    \"\"\"\n",
    "    y_true = np.asarray(y_true)\n",
    "    ranking = np.asarray(prediction)\n",
    "    length = len(prediction)\n",
    "    \n",
    "    dcg = 0\n",
    "    idcg = 0\n",
    "    rel = []\n",
    "    for i in range(0,n):\n",
    "        rel.append(n - np.absolute(prediction[i]-y_true[i]))\n",
    "        \n",
    "    \n",
    "    max_rel = sorted(rel,reverse = True)\n",
    "    \n",
    "    for i in range(0,k):\n",
    "        gains = 2 ** rel[i] - 1\n",
    "        discounts = np.log2(i + 2)\n",
    "        dcg += gains/discounts # get DCG\n",
    "    '''\n",
    "        gains_max = 2 ** max_rel[i] - 1\n",
    "        idcg += gains_max/discounts # get IDCG\n",
    "    '''\n",
    "    for i in range(0,n):\n",
    "        gains_max = 2 ** max_rel[i] - 1\n",
    "        discounts = np.log2(i + 2)\n",
    "        idcg += gains_max/discounts # get IDCG\n",
    "        \n",
    "\n",
    "    NDCG = dcg/idcg  \n",
    "    \n",
    "    return NDCG "
   ]
  },
  {
   "cell_type": "markdown",
   "metadata": {},
   "source": [
    "Setting parameters- y_true, prediction and rel"
   ]
  },
  {
   "cell_type": "code",
   "execution_count": 59,
   "metadata": {
    "collapsed": false
   },
   "outputs": [],
   "source": [
    "y_true = []\n",
    "prediction = []\n",
    "for i in range(1,21):\n",
    "    y_true.append(i)\n",
    "    \n",
    "for i in  random.sample(range(1,21),20):\n",
    "         prediction.append(i)"
   ]
  },
  {
   "cell_type": "code",
   "execution_count": 60,
   "metadata": {
    "collapsed": false
   },
   "outputs": [
    {
     "data": {
      "text/plain": [
       "[1, 2, 3, 4, 5, 6, 7, 8, 9, 10, 11, 12, 13, 14, 15, 16, 17, 18, 19, 20]"
      ]
     },
     "execution_count": 60,
     "metadata": {},
     "output_type": "execute_result"
    }
   ],
   "source": [
    "y_true"
   ]
  },
  {
   "cell_type": "code",
   "execution_count": 61,
   "metadata": {
    "collapsed": false
   },
   "outputs": [
    {
     "data": {
      "text/plain": [
       "[20, 16, 18, 11, 19, 17, 4, 1, 2, 12, 15, 5, 13, 9, 7, 8, 3, 14, 6, 10]"
      ]
     },
     "execution_count": 61,
     "metadata": {},
     "output_type": "execute_result"
    }
   ],
   "source": [
    "prediction"
   ]
  },
  {
   "cell_type": "markdown",
   "metadata": {},
   "source": [
    "Now we can get the NDCG ranking score at k th position, here we take 1 , 13 and 20 as illustration"
   ]
  },
  {
   "cell_type": "code",
   "execution_count": 67,
   "metadata": {
    "collapsed": false
   },
   "outputs": [
    {
     "data": {
      "text/plain": [
       "7.3657575782591018e-07"
      ]
     },
     "execution_count": 67,
     "metadata": {},
     "output_type": "execute_result"
    }
   ],
   "source": [
    "get_ndcg(y_true, prediction, 1, 20)"
   ]
  },
  {
   "cell_type": "code",
   "execution_count": 68,
   "metadata": {
    "collapsed": false
   },
   "outputs": [
    {
     "data": {
      "text/plain": [
       "0.31246166814220561"
      ]
     },
     "execution_count": 68,
     "metadata": {},
     "output_type": "execute_result"
    }
   ],
   "source": [
    "get_ndcg(y_true, prediction, 13, 20)"
   ]
  },
  {
   "cell_type": "code",
   "execution_count": 69,
   "metadata": {
    "collapsed": false
   },
   "outputs": [
    {
     "data": {
      "text/plain": [
       "0.33169918077524441"
      ]
     },
     "execution_count": 69,
     "metadata": {},
     "output_type": "execute_result"
    }
   ],
   "source": [
    "get_ndcg(y_true, prediction, 20, 20)"
   ]
  },
  {
   "cell_type": "code",
   "execution_count": null,
   "metadata": {
    "collapsed": false
   },
   "outputs": [],
   "source": []
  },
  {
   "cell_type": "markdown",
   "metadata": {},
   "source": [
    "# Plot for NDCG\n"
   ]
  },
  {
   "cell_type": "code",
   "execution_count": 70,
   "metadata": {
    "collapsed": false
   },
   "outputs": [],
   "source": [
    "ndcg= []\n",
    "for i in range(1,21):\n",
    "    ndcg.append(get_ndcg(y_true, prediction, i, 20))"
   ]
  },
  {
   "cell_type": "code",
   "execution_count": 71,
   "metadata": {
    "collapsed": false
   },
   "outputs": [
    {
     "data": {
      "text/plain": [
       "<matplotlib.text.Text at 0x7f482ae52e10>"
      ]
     },
     "execution_count": 71,
     "metadata": {},
     "output_type": "execute_result"
    },
    {
     "data": {
      "image/png": "[encoded data removed]",
      "text/plain": [
       "<matplotlib.figure.Figure at 0x7f482ae68a58>"
      ]
     },
     "metadata": {},
     "output_type": "display_data"
    }
   ],
   "source": [
    "# Make plots\n",
    "fig, ax = plt.subplots(figsize = (10, 5))\n",
    "sns.set(style=\"white\")\n",
    "\n",
    "plt.plot(range(1,21),ndcg)\n",
    "    \n",
    "# Set title and labes\n",
    "plt.title(\"Plot for NDCG\")\n",
    "plt.ylabel(\"NDCG\")\n",
    "plt.xlabel(\"Ranking\")"
   ]
  },
  {
   "cell_type": "code",
   "execution_count": null,
   "metadata": {
    "collapsed": true
   },
   "outputs": [],
   "source": []
  },
  {
   "cell_type": "code",
   "execution_count": null,
   "metadata": {
    "collapsed": true
   },
   "outputs": [],
   "source": []
  }
 ],
 "metadata": {
  "kernelspec": {
   "display_name": "Python 3",
   "language": "python",
   "name": "python3"
  },
  "language_info": {
   "codemirror_mode": {
    "name": "ipython",
    "version": 3
   },
   "file_extension": ".py",
   "mimetype": "text/x-python",
   "name": "python",
   "nbconvert_exporter": "python",
   "pygments_lexer": "ipython3",
   "version": "3.5.1"
  }
 },
 "nbformat": 4,
 "nbformat_minor": 0
}
